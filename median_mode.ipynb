{
 "cells": [
  {
   "cell_type": "code",
   "execution_count": 2,
   "metadata": {},
   "outputs": [
    {
     "name": "stdout",
     "output_type": "stream",
     "text": [
      "Median: 13\n"
     ]
    }
   ],
   "source": [
    "data = [5, 12, 13, 7, 40, 18, 14]\n",
    "\n",
    "\n",
    "sorted_data = sorted(data)\n",
    "\n",
    "n = len(sorted_data)\n",
    "middle_index = n // 2  \n",
    "\n",
    "if n % 2 == 1:\n",
    "    \n",
    "    median_value = sorted_data[middle_index]\n",
    "else:\n",
    "    \n",
    "    median_value = (sorted_data[middle_index - 1] + sorted_data[middle_index]) / 2\n",
    "\n",
    "print(\"Median:\", median_value)\n"
   ]
  },
  {
   "cell_type": "code",
   "execution_count": 3,
   "metadata": {},
   "outputs": [
    {
     "name": "stdout",
     "output_type": "stream",
     "text": [
      "Median: 13\n"
     ]
    }
   ],
   "source": [
    "import statistics\n",
    "\n",
    "data = [5, 7, 12, 13, 14, 18, 40]\n",
    "\n",
    "median_value = statistics.median(data)\n",
    "print(\"Median:\", median_value)\n"
   ]
  },
  {
   "cell_type": "markdown",
   "metadata": {},
   "source": [
    "Mode"
   ]
  },
  {
   "cell_type": "markdown",
   "metadata": {},
   "source": []
  },
  {
   "cell_type": "code",
   "execution_count": 4,
   "metadata": {},
   "outputs": [
    {
     "name": "stdout",
     "output_type": "stream",
     "text": [
      "Mode: 5\n"
     ]
    }
   ],
   "source": [
    "import statistics\n",
    "\n",
    "data = [5, 7, 12, 13, 14, 18, 40]\n",
    "\n",
    "try:\n",
    "    mode_value = statistics.mode(data)\n",
    "    print(\"Mode:\", mode_value)\n",
    "except statistics.StatisticsError as e:\n",
    "    print(\"No mode found:\", e)\n"
   ]
  }
 ],
 "metadata": {
  "kernelspec": {
   "display_name": "Python 3",
   "language": "python",
   "name": "python3"
  },
  "language_info": {
   "codemirror_mode": {
    "name": "ipython",
    "version": 3
   },
   "file_extension": ".py",
   "mimetype": "text/x-python",
   "name": "python",
   "nbconvert_exporter": "python",
   "pygments_lexer": "ipython3",
   "version": "3.11.5"
  }
 },
 "nbformat": 4,
 "nbformat_minor": 2
}
