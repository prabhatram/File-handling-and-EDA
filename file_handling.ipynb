{
 "cells": [
  {
   "cell_type": "markdown",
   "metadata": {},
   "source": [
    "Opening a file and reading everything at once:"
   ]
  },
  {
   "cell_type": "code",
   "execution_count": 25,
   "metadata": {},
   "outputs": [
    {
     "name": "stdout",
     "output_type": "stream",
     "text": [
      "This is Line 1 of this file\n",
      "This is Line 2 of this file\n",
      "This is Line 3 of this file\n",
      "This is Line 4 of this file\n",
      "This is Line 5 of this file\n",
      "\n"
     ]
    }
   ],
   "source": [
    "#clementine = open(\"example.txt\", \"r\")\n",
    "#clementine = open(\"./example.txt\", \"r\")\n",
    "clementine = open(\"/Users/pram/Downloads/example.txt\", \"r\")\n",
    "\n",
    "data = clementine.read()\n",
    "print(data)\n",
    "#clementine.close()"
   ]
  },
  {
   "cell_type": "markdown",
   "metadata": {},
   "source": [
    "Opening a file and reading one line:"
   ]
  },
  {
   "cell_type": "code",
   "execution_count": 6,
   "metadata": {},
   "outputs": [
    {
     "name": "stdout",
     "output_type": "stream",
     "text": [
      "['Oh my darling, oh my darling, oh my darling, Clementine. You are lost and gone forever. Dreadful sorry, Clementine. \\n', 'In a cavern, in a canyon excavating for a mine. Dwelt a miner, forty-niner and his daughter, Clementine.\\n', 'Oh my darling, oh my darling, oh my darling, Clementine. You are lost and gone forever. Dreadful sorry, Clementine. \\n', 'Light she was and like a fairy, and her shoes were number nine. Herring boxes, without topses sandals were for Clementine.\\n', 'Oh my darling, oh my darling, oh my darling, Clementine. You are lost and gone forever. Dreadful sorry, Clementine. \\n', \"Drove she ducklings to the water ev'ry morning just at nine. Hit her foot against a splinter, fell into the foaming brine.\\n\", 'Oh my darling, oh my darling, oh my darling, Clementine. You are lost and gone forever. Dreadful sorry, Clementine. \\n', 'Ruby lips above the water, blowing bubbles, soft and fine. But, alas, I was no swimmer. So I lost my Clementine.\\n', 'Oh my darling, oh my darling, oh my darling, Clementine. You are lost and gone forever. Dreadful sorry, Clementine. \\n', 'How I missed her! How I missed her, How I missed my Clementine. But I kissed her little sister, I forgot my Clementine.\\n', 'Oh my darling, oh my darling, oh my darling, Clementine. You are lost and gone forever. Dreadful sorry, Clementine. ']\n",
      "<class 'list'>\n"
     ]
    }
   ],
   "source": [
    "clementine2 = open(\"example.txt\", \"r\")\n",
    "\n",
    "#data2 = clementine2.readline() # reads one line \n",
    "data2 = clementine2.readlines() # reads all the lines and puts them into a list \n",
    "print(data2)\n",
    "print(type(data2))\n",
    "clementine2.close()"
   ]
  },
  {
   "cell_type": "markdown",
   "metadata": {},
   "source": [
    "Opening a file and reading all the lines, but one line at a time:"
   ]
  },
  {
   "cell_type": "code",
   "execution_count": 27,
   "metadata": {},
   "outputs": [
    {
     "name": "stdout",
     "output_type": "stream",
     "text": [
      "Oh my darling, oh my darling, oh my darling, Clementine. You are lost and gone forever. Dreadful sorry, Clementine. \n",
      "\n",
      "In a cavern, in a canyon excavating for a mine. Dwelt a miner, forty-niner and his daughter, Clementine.\n",
      "\n",
      "Oh my darling, oh my darling, oh my darling, Clementine. You are lost and gone forever. Dreadful sorry, Clementine. \n",
      "\n",
      "Light she was and like a fairy, and her shoes were number nine. Herring boxes, without topses sandals were for Clementine.\n",
      "\n",
      "Oh my darling, oh my darling, oh my darling, Clementine. You are lost and gone forever. Dreadful sorry, Clementine. \n",
      "\n",
      "Drove she ducklings to the water ev'ry morning just at nine. Hit her foot against a splinter, fell into the foaming brine.\n",
      "\n",
      "Oh my darling, oh my darling, oh my darling, Clementine. You are lost and gone forever. Dreadful sorry, Clementine. \n",
      "\n",
      "Ruby lips above the water, blowing bubbles, soft and fine. But, alas, I was no swimmer. So I lost my Clementine.\n",
      "\n",
      "Oh my darling, oh my darling, oh my darling, Clementine. You are lost and gone forever. Dreadful sorry, Clementine. \n",
      "\n",
      "How I missed her! How I missed her, How I missed my Clementine. But I kissed her little sister, I forgot my Clementine.\n",
      "\n",
      "Oh my darling, oh my darling, oh my darling, Clementine. You are lost and gone forever. Dreadful sorry, Clementine. \n"
     ]
    }
   ],
   "source": [
    "clementine3 = open(\"example.txt\", \"r\")\n",
    "\n",
    "#data3 = clementine3.readline() # reads one line \n",
    "#data2 = clementine2.readlines() # reads all the lines and puts them into a list \n",
    "\n",
    "for line in clementine3:\n",
    "    print(line)\n",
    "    #print(type(data3))\n",
    "\n",
    "clementine3.close()"
   ]
  },
  {
   "cell_type": "markdown",
   "metadata": {},
   "source": [
    "Writing to a file:"
   ]
  },
  {
   "cell_type": "code",
   "execution_count": 8,
   "metadata": {},
   "outputs": [],
   "source": [
    "file_to_write = open(\"new_file5.txt\", \"w\")\n",
    "file_to_write.write(\"Hello World\\n\")\n",
    "file_to_write.write(\"Hello World, second time\\n\")\n",
    "file_to_write.close()"
   ]
  },
  {
   "cell_type": "markdown",
   "metadata": {},
   "source": []
  },
  {
   "cell_type": "code",
   "execution_count": 5,
   "metadata": {},
   "outputs": [],
   "source": [
    "file_to_write = open(\"new_file.txt\", \"a\")\n",
    "file_to_write.write(\"Hello World\\n\")\n",
    "file_to_write.write(\"Hello World, second time\\n\")\n",
    "file_to_write.close()"
   ]
  },
  {
   "cell_type": "code",
   "execution_count": 17,
   "metadata": {},
   "outputs": [],
   "source": [
    "file_to_write = open(\"new_file.txt\", \"w\")\n",
    "file_to_write.write(\"Yippie Kai Yay\\n\")\n",
    "file_to_write.close()"
   ]
  },
  {
   "cell_type": "markdown",
   "metadata": {},
   "source": [
    "Reading from a file that does not exist:"
   ]
  },
  {
   "cell_type": "code",
   "execution_count": 18,
   "metadata": {},
   "outputs": [
    {
     "ename": "FileNotFoundError",
     "evalue": "[Errno 2] No such file or directory: 'example2.txt'",
     "output_type": "error",
     "traceback": [
      "\u001b[0;31m---------------------------------------------------------------------------\u001b[0m",
      "\u001b[0;31mFileNotFoundError\u001b[0m                         Traceback (most recent call last)",
      "Cell \u001b[0;32mIn[18], line 1\u001b[0m\n\u001b[0;32m----> 1\u001b[0m clementine \u001b[38;5;241m=\u001b[39m \u001b[38;5;28;43mopen\u001b[39;49m\u001b[43m(\u001b[49m\u001b[38;5;124;43m\"\u001b[39;49m\u001b[38;5;124;43mexample2.txt\u001b[39;49m\u001b[38;5;124;43m\"\u001b[39;49m\u001b[43m,\u001b[49m\u001b[43m \u001b[49m\u001b[38;5;124;43m\"\u001b[39;49m\u001b[38;5;124;43mr\u001b[39;49m\u001b[38;5;124;43m\"\u001b[39;49m\u001b[43m)\u001b[49m\n\u001b[1;32m      2\u001b[0m \u001b[38;5;66;03m#clementine = open(\"./example.txt\", \"r\")\u001b[39;00m\n\u001b[1;32m      3\u001b[0m \u001b[38;5;66;03m#clementine = open(\"/Users/pram/Downloads/example.txt\", \"r\")\u001b[39;00m\n\u001b[1;32m      4\u001b[0m data \u001b[38;5;241m=\u001b[39m clementine\u001b[38;5;241m.\u001b[39mread()\n",
      "File \u001b[0;32m~/Library/Python/3.11/lib/python/site-packages/IPython/core/interactiveshell.py:286\u001b[0m, in \u001b[0;36m_modified_open\u001b[0;34m(file, *args, **kwargs)\u001b[0m\n\u001b[1;32m    279\u001b[0m \u001b[38;5;28;01mif\u001b[39;00m file \u001b[38;5;129;01min\u001b[39;00m {\u001b[38;5;241m0\u001b[39m, \u001b[38;5;241m1\u001b[39m, \u001b[38;5;241m2\u001b[39m}:\n\u001b[1;32m    280\u001b[0m     \u001b[38;5;28;01mraise\u001b[39;00m \u001b[38;5;167;01mValueError\u001b[39;00m(\n\u001b[1;32m    281\u001b[0m         \u001b[38;5;124mf\u001b[39m\u001b[38;5;124m\"\u001b[39m\u001b[38;5;124mIPython won\u001b[39m\u001b[38;5;124m'\u001b[39m\u001b[38;5;124mt let you open fd=\u001b[39m\u001b[38;5;132;01m{\u001b[39;00mfile\u001b[38;5;132;01m}\u001b[39;00m\u001b[38;5;124m by default \u001b[39m\u001b[38;5;124m\"\u001b[39m\n\u001b[1;32m    282\u001b[0m         \u001b[38;5;124m\"\u001b[39m\u001b[38;5;124mas it is likely to crash IPython. If you know what you are doing, \u001b[39m\u001b[38;5;124m\"\u001b[39m\n\u001b[1;32m    283\u001b[0m         \u001b[38;5;124m\"\u001b[39m\u001b[38;5;124myou can use builtins\u001b[39m\u001b[38;5;124m'\u001b[39m\u001b[38;5;124m open.\u001b[39m\u001b[38;5;124m\"\u001b[39m\n\u001b[1;32m    284\u001b[0m     )\n\u001b[0;32m--> 286\u001b[0m \u001b[38;5;28;01mreturn\u001b[39;00m \u001b[43mio_open\u001b[49m\u001b[43m(\u001b[49m\u001b[43mfile\u001b[49m\u001b[43m,\u001b[49m\u001b[43m \u001b[49m\u001b[38;5;241;43m*\u001b[39;49m\u001b[43margs\u001b[49m\u001b[43m,\u001b[49m\u001b[43m \u001b[49m\u001b[38;5;241;43m*\u001b[39;49m\u001b[38;5;241;43m*\u001b[39;49m\u001b[43mkwargs\u001b[49m\u001b[43m)\u001b[49m\n",
      "\u001b[0;31mFileNotFoundError\u001b[0m: [Errno 2] No such file or directory: 'example2.txt'"
     ]
    }
   ],
   "source": [
    "clementine = open(\"example2.txt\", \"r\")\n",
    "#clementine = open(\"./example.txt\", \"r\")\n",
    "#clementine = open(\"/Users/pram/Downloads/example.txt\", \"r\")\n",
    "data = clementine.read()\n",
    "print(data)\n",
    "clementine.close()"
   ]
  },
  {
   "cell_type": "markdown",
   "metadata": {},
   "source": [
    "Reading from a file that does not exist but now with exception handling:"
   ]
  },
  {
   "cell_type": "code",
   "execution_count": 10,
   "metadata": {},
   "outputs": [
    {
     "name": "stdout",
     "output_type": "stream",
     "text": [
      "Oh my darling, oh my darling, oh my darling, Clementine. You are lost and gone forever. Dreadful sorry, Clementine. \n",
      "In a cavern, in a canyon excavating for a mine. Dwelt a miner, forty-niner and his daughter, Clementine.\n",
      "Oh my darling, oh my darling, oh my darling, Clementine. You are lost and gone forever. Dreadful sorry, Clementine. \n",
      "Light she was and like a fairy, and her shoes were number nine. Herring boxes, without topses sandals were for Clementine.\n",
      "Oh my darling, oh my darling, oh my darling, Clementine. You are lost and gone forever. Dreadful sorry, Clementine. \n",
      "Drove she ducklings to the water ev'ry morning just at nine. Hit her foot against a splinter, fell into the foaming brine.\n",
      "Oh my darling, oh my darling, oh my darling, Clementine. You are lost and gone forever. Dreadful sorry, Clementine. \n",
      "Ruby lips above the water, blowing bubbles, soft and fine. But, alas, I was no swimmer. So I lost my Clementine.\n",
      "Oh my darling, oh my darling, oh my darling, Clementine. You are lost and gone forever. Dreadful sorry, Clementine. \n",
      "How I missed her! How I missed her, How I missed my Clementine. But I kissed her little sister, I forgot my Clementine.\n",
      "Oh my darling, oh my darling, oh my darling, Clementine. You are lost and gone forever. Dreadful sorry, Clementine. \n"
     ]
    }
   ],
   "source": [
    "\n",
    "with open(\"example.txt\", \"r\") as clementine:\n",
    "    data = clementine.read()\n",
    "    print(data)\n"
   ]
  },
  {
   "cell_type": "code",
   "execution_count": 11,
   "metadata": {},
   "outputs": [
    {
     "name": "stdout",
     "output_type": "stream",
     "text": [
      "File not found\n"
     ]
    }
   ],
   "source": [
    "try:\n",
    "    with open(\"examplee.txt\", \"r\") as clementine:\n",
    "        data = clementine.read()\n",
    "        print(data)\n",
    "except FileNotFoundError:\n",
    "    print(\"File not found\")\n",
    "except IOError:\n",
    "    print(\"IO Error\")"
   ]
  }
 ],
 "metadata": {
  "kernelspec": {
   "display_name": "Python 3",
   "language": "python",
   "name": "python3"
  },
  "language_info": {
   "codemirror_mode": {
    "name": "ipython",
    "version": 3
   },
   "file_extension": ".py",
   "mimetype": "text/x-python",
   "name": "python",
   "nbconvert_exporter": "python",
   "pygments_lexer": "ipython3",
   "version": "3.11.5"
  }
 },
 "nbformat": 4,
 "nbformat_minor": 2
}
